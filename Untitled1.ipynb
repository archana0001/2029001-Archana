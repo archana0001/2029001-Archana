{
  "nbformat": 4,
  "nbformat_minor": 0,
  "metadata": {
    "colab": {
      "name": "Untitled1.ipynb",
      "provenance": [],
      "authorship_tag": "ABX9TyNsOFPRCEhPQbjeZBzrNszi",
      "include_colab_link": true
    },
    "kernelspec": {
      "name": "python3",
      "display_name": "Python 3"
    },
    "language_info": {
      "name": "python"
    }
  },
  "cells": [
    {
      "cell_type": "markdown",
      "metadata": {
        "id": "view-in-github",
        "colab_type": "text"
      },
      "source": [
        "<a href=\"https://colab.research.google.com/github/archana0001/2029001-Archana/blob/main/Untitled1.ipynb\" target=\"_parent\"><img src=\"https://colab.research.google.com/assets/colab-badge.svg\" alt=\"Open In Colab\"/></a>"
      ]
    },
    {
      "cell_type": "code",
      "metadata": {
        "colab": {
          "base_uri": "https://localhost:8080/"
        },
        "id": "1PuxmRWXp6Du",
        "outputId": "4f70a007-d124-46de-fd33-28ebae711297"
      },
      "source": [
        "import array as arr\n",
        "a=arr.array('i',[2,4,3,6])\n",
        "print(\"First element:\",a[0])\n",
        "print(\"Second element:\",a[1])\n",
        "print(\"Last element:\",a[3])\n"
      ],
      "execution_count": 2,
      "outputs": [
        {
          "output_type": "stream",
          "text": [
            "First element: 2\n",
            "Second element: 4\n",
            "Last element: 6\n"
          ],
          "name": "stdout"
        }
      ]
    }
  ]
}